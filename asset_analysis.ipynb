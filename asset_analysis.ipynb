{
 "cells": [
  {
   "cell_type": "markdown",
   "metadata": {},
   "source": [
    "# NLP Asset Analysis"
   ]
  },
  {
   "cell_type": "markdown",
   "metadata": {},
   "source": [
    "## Dependencies & Imports\n"
   ]
  },
  {
   "cell_type": "code",
   "execution_count": 69,
   "metadata": {},
   "outputs": [],
   "source": [
    "%%capture\n",
    "%pip install transformers\n",
    "%pip install sentencepiece\n",
    "%pip install torch torchvision"
   ]
  },
  {
   "cell_type": "code",
   "execution_count": 70,
   "metadata": {},
   "outputs": [],
   "source": [
    "from transformers import PegasusTokenizer, PegasusForConditionalGeneration, logging # type: ignore\n",
    "from bs4 import BeautifulSoup # type: ignore\n",
    "import requests # type: ignore\n",
    "logging.set_verbosity_error()"
   ]
  },
  {
   "cell_type": "markdown",
   "metadata": {},
   "source": [
    "## Summarization Model"
   ]
  },
  {
   "cell_type": "code",
   "execution_count": 71,
   "metadata": {},
   "outputs": [],
   "source": [
    "model_name = 'human-centered-summarization/financial-summarization-pegasus'\n",
    "tokenizer = PegasusTokenizer.from_pretrained(model_name)\n",
    "model = PegasusForConditionalGeneration.from_pretrained(model_name)"
   ]
  },
  {
   "cell_type": "markdown",
   "metadata": {},
   "source": [
    "## News & Sentiment Pipeline"
   ]
  },
  {
   "cell_type": "code",
   "execution_count": 72,
   "metadata": {},
   "outputs": [],
   "source": [
    "tickers = ['GOOG', 'TSLA', 'BTC']"
   ]
  },
  {
   "cell_type": "markdown",
   "metadata": {},
   "source": [
    "### Search for Stock News"
   ]
  },
  {
   "cell_type": "code",
   "execution_count": 73,
   "metadata": {},
   "outputs": [],
   "source": [
    "def get_stock_news_urls(ticker):\n",
    "    search_url = 'https://www.google.com/search?q=yahoo+finance+{}+news&tbm=nws'.format(ticker)\n",
    "    r = requests.get(search_url)\n",
    "    soup = BeautifulSoup(r.text, 'html.parser')\n",
    "    atags = soup.find_all('a')\n",
    "    hrefs = [link['href'] for link in atags]\n",
    "    return hrefs"
   ]
  },
  {
   "cell_type": "code",
   "execution_count": 74,
   "metadata": {},
   "outputs": [],
   "source": [
    "raw_urls = {ticker : get_stock_news_urls(ticker) for ticker in tickers};"
   ]
  },
  {
   "cell_type": "markdown",
   "metadata": {},
   "source": [
    "### Filter URLs"
   ]
  },
  {
   "cell_type": "code",
   "execution_count": 75,
   "metadata": {},
   "outputs": [],
   "source": [
    "import re"
   ]
  },
  {
   "cell_type": "code",
   "execution_count": 76,
   "metadata": {},
   "outputs": [],
   "source": [
    "exclude_list = ['maps', 'policies', 'preferences', 'accounts', 'support', 'search']"
   ]
  },
  {
   "cell_type": "code",
   "execution_count": 77,
   "metadata": {},
   "outputs": [],
   "source": [
    "def filter_urls(urls, exclude_list):\n",
    "    val = []\n",
    "    for url in urls:\n",
    "        if 'https://' in url and 'finance' in url and not any(exclude_word in url for exclude_word in exclude_list):\n",
    "            res = re.findall(r'(https?://\\S+)', url)[0].split('&')[0]\n",
    "            val.append(res)\n",
    "    return list(set(val))[:5]\n"
   ]
  },
  {
   "cell_type": "code",
   "execution_count": 78,
   "metadata": {},
   "outputs": [
    {
     "data": {
      "text/plain": [
       "{'GOOG': ['https://finance.yahoo.com/news/amazon-earnings-195332083.html',\n",
       "  'https://finance.yahoo.com/news/alphabet-earnings-july-25-153933519.html',\n",
       "  'https://finance.yahoo.com/news/alphabet-stock-rises-4-after-google-rolls-out-new-bard-features-international-expansion-070139824.html',\n",
       "  'https://finance.yahoo.com/news/google-parent-alphabets-stock-top-175837293.html',\n",
       "  'https://finance.yahoo.com/news/want-job-working-ai-ll-180044780.html'],\n",
       " 'TSLA': ['https://finance.yahoo.com/news/tesla-model-y-model-3-probed-by-nhtsa-on-loss-of-steering-complaints-174245647.html',\n",
       "  'https://finance.yahoo.com/news/tesla-stock-tumbles-nearly-10-on-margin-concerns-musk-warning-on-q3-production-200240714.html',\n",
       "  'https://finance.yahoo.com/news/lucid-board-member-on-ev-competition-were-not-targeting-tesla-133735484.html',\n",
       "  'https://finance.yahoo.com/news/nasdaq-sinks-as-tesla-netflix-plunge-dow-gains-for-9th-day-stock-market-news-today-200246194.html',\n",
       "  'https://finance.yahoo.com/news/10-best-ev-battery-autonomous-222242368.html'],\n",
       " 'BTC': ['https://finance.yahoo.com/news/binance-boosts-first-digitals-stablecoin-155401419.html',\n",
       "  'https://finance.yahoo.com/news/sai-tech-announces-host-upcoming-120000199.html',\n",
       "  'https://uk.finance.yahoo.com/news/bitcoin-price-crypto-binance-fraud-charge-us-092356621.html',\n",
       "  'https://finance.yahoo.com/news/bear-day-microstrategy-mstr-102000522.html',\n",
       "  'https://finance.yahoo.com/news/bitcoin-stays-above-us-30-015141435.html']}"
      ]
     },
     "execution_count": 78,
     "metadata": {},
     "output_type": "execute_result"
    }
   ],
   "source": [
    "cleaned_urls = {ticker : filter_urls(raw_urls[ticker], exclude_list) for ticker in tickers}\n",
    "cleaned_urls"
   ]
  },
  {
   "cell_type": "markdown",
   "metadata": {},
   "source": [
    "### Scrape URLs"
   ]
  },
  {
   "cell_type": "code",
   "execution_count": 79,
   "metadata": {},
   "outputs": [],
   "source": [
    "def process(urls):\n",
    "    articles = []\n",
    "    for url in urls:\n",
    "        r = requests.get(url)\n",
    "        soup = BeautifulSoup(r.text, 'html.parser')\n",
    "        paragraphs = soup.find_all('p')\n",
    "        text = [paragraph.text for paragraph in paragraphs]\n",
    "        words = ' '.join(text).split(' ')[:350]\n",
    "        article = ' '.join(words)\n",
    "        articles.append(article)\n",
    "    return articles"
   ]
  },
  {
   "cell_type": "code",
   "execution_count": 80,
   "metadata": {},
   "outputs": [],
   "source": [
    "articles = {ticker : process(cleaned_urls[ticker]) for ticker in tickers}"
   ]
  },
  {
   "cell_type": "markdown",
   "metadata": {},
   "source": [
    "### Summarize"
   ]
  },
  {
   "cell_type": "code",
   "execution_count": 81,
   "metadata": {},
   "outputs": [],
   "source": [
    "def summarize(articles):\n",
    "    summaries = []\n",
    "    for article in articles:\n",
    "        input_ids = tokenizer.encode(article, return_tensors='pt')\n",
    "        output  = model.generate(input_ids, max_length=100, num_beams=5, early_stopping=True)\n",
    "        summary = tokenizer.decode(output[0], skip_special_tokens=True)\n",
    "        summaries.append(summary)\n",
    "    return  summaries"
   ]
  },
  {
   "cell_type": "code",
   "execution_count": 82,
   "metadata": {},
   "outputs": [
    {
     "data": {
      "text/plain": [
       "{'GOOG': ['Second-quarter profit beat came despite slowdown in sales of Amazon Web Services. Revenue outlook was a striking beat, coming in between $138 billion and $143 billion',\n",
       "  'Google parent company reported revenue of $74.6 billion. YouTube ad revenues also topped estimates',\n",
       "  'Google’s chatbot is now available in more than 40 languages. New features include audio responses, Pinned conversations',\n",
       "  \"AFP sues Musk's X social media platform, accusing it of neglecting. Regulatory Hurdles: Agence France-Presse (AFP) has initiated legal proceedings against Elon Musk\",\n",
       "  'How to make money with AI and the skills needed. Here are the types of jobs that you can find in AI'],\n",
       " 'TSLA': ['NHTSA says investigation covers an estimated 280,000 Model 3 and Model Y cars. Tesla may not be able to fix issue via software update',\n",
       "  'Margins came in below expectations, but CEO says demand for new truck is off the hook.',\n",
       "  'Lucid says EV market ‘will explode,’ not ‘ deliberately targeting Tesla.’ Shares down more than 20% this year.',\n",
       "  'Tesla, Netflix results failed to excite investors. Johnson & Johnson, American Airlines also reported results',\n",
       "  'IEA expects a significant increase in electric vehicle sales compared to 2022. India, Thailand, and Indonesia experienced remarkable growth in 2022'],\n",
       " 'BTC': ['Exchange to waive fees for BTC/FDUSD, maker fees until further notice.',\n",
       "  'SAI’s new U.S. R&D Center and OCEC Computing Heat Recycle Center to be unveiled in Marietta, Ohio.',\n",
       "  'DOJ is considering bringing fraud charges against Bitstamp, reports Semafor. Bitcoin is wavering above the $29,000 level as trading volumes remain low',\n",
       "  'Founder and Chairman Michael Saylor says company is all-in on crypto. But Wall Street analysts need more visibility on core business',\n",
       "  'Ether edged lower along with most other top 10 cryptocurrencies. JPMorgan report claims recent flurry of Bitcoin ETF applications may not be game-changer']}"
      ]
     },
     "execution_count": 82,
     "metadata": {},
     "output_type": "execute_result"
    }
   ],
   "source": [
    "summaries = {ticker : summarize(articles[ticker]) for ticker in tickers}\n",
    "summaries"
   ]
  },
  {
   "cell_type": "markdown",
   "metadata": {},
   "source": [
    "## Sentiment Analysis"
   ]
  },
  {
   "cell_type": "code",
   "execution_count": 83,
   "metadata": {},
   "outputs": [],
   "source": [
    "from transformers import pipeline # type: ignore\n",
    "sentiment = pipeline('sentiment-analysis')"
   ]
  },
  {
   "cell_type": "code",
   "execution_count": 84,
   "metadata": {},
   "outputs": [
    {
     "data": {
      "text/plain": [
       "{'GOOG': [{'label': 'POSITIVE', 'score': 0.9606388807296753},\n",
       "  {'label': 'POSITIVE', 'score': 0.9964740872383118},\n",
       "  {'label': 'POSITIVE', 'score': 0.9792576432228088},\n",
       "  {'label': 'NEGATIVE', 'score': 0.9980740547180176},\n",
       "  {'label': 'POSITIVE', 'score': 0.9550225734710693}],\n",
       " 'TSLA': [{'label': 'NEGATIVE', 'score': 0.9995212554931641},\n",
       "  {'label': 'NEGATIVE', 'score': 0.9878749251365662},\n",
       "  {'label': 'NEGATIVE', 'score': 0.9985577464103699},\n",
       "  {'label': 'NEGATIVE', 'score': 0.9997245669364929},\n",
       "  {'label': 'POSITIVE', 'score': 0.998110294342041}],\n",
       " 'BTC': [{'label': 'NEGATIVE', 'score': 0.9841852188110352},\n",
       "  {'label': 'POSITIVE', 'score': 0.9958518743515015},\n",
       "  {'label': 'NEGATIVE', 'score': 0.9990792274475098},\n",
       "  {'label': 'NEGATIVE', 'score': 0.9965921640396118},\n",
       "  {'label': 'NEGATIVE', 'score': 0.9975816011428833}]}"
      ]
     },
     "execution_count": 84,
     "metadata": {},
     "output_type": "execute_result"
    }
   ],
   "source": [
    "scores = {ticker : sentiment(summaries[ticker]) for ticker in tickers}\n",
    "scores"
   ]
  },
  {
   "cell_type": "markdown",
   "metadata": {},
   "source": [
    "## Exporting to CSV"
   ]
  },
  {
   "cell_type": "code",
   "execution_count": 85,
   "metadata": {},
   "outputs": [],
   "source": [
    "def create_output_array(summaries, scores, urls):\n",
    "    output = [['Ticker', 'Summary', 'Label', 'Confidence', 'URL']]\n",
    "    for ticker in tickers:\n",
    "        for i in range(len(summaries[ticker])):\n",
    "            output_this = [\n",
    "                ticker,\n",
    "                summaries[ticker][i],\n",
    "                scores[ticker][i]['label'],\n",
    "                scores[ticker][i]['score'],\n",
    "                urls[ticker][i]\n",
    "            ]\n",
    "            output.append(output_this)\n",
    "    return output"
   ]
  },
  {
   "cell_type": "code",
   "execution_count": 86,
   "metadata": {},
   "outputs": [
    {
     "data": {
      "text/plain": [
       "[['Ticker', 'Summary', 'Label', 'Confidence', 'URL'],\n",
       " ['GOOG',\n",
       "  'Second-quarter profit beat came despite slowdown in sales of Amazon Web Services. Revenue outlook was a striking beat, coming in between $138 billion and $143 billion',\n",
       "  'POSITIVE',\n",
       "  0.9606388807296753,\n",
       "  'https://finance.yahoo.com/news/amazon-earnings-195332083.html'],\n",
       " ['GOOG',\n",
       "  'Google parent company reported revenue of $74.6 billion. YouTube ad revenues also topped estimates',\n",
       "  'POSITIVE',\n",
       "  0.9964740872383118,\n",
       "  'https://finance.yahoo.com/news/alphabet-earnings-july-25-153933519.html'],\n",
       " ['GOOG',\n",
       "  'Google’s chatbot is now available in more than 40 languages. New features include audio responses, Pinned conversations',\n",
       "  'POSITIVE',\n",
       "  0.9792576432228088,\n",
       "  'https://finance.yahoo.com/news/alphabet-stock-rises-4-after-google-rolls-out-new-bard-features-international-expansion-070139824.html'],\n",
       " ['GOOG',\n",
       "  \"AFP sues Musk's X social media platform, accusing it of neglecting. Regulatory Hurdles: Agence France-Presse (AFP) has initiated legal proceedings against Elon Musk\",\n",
       "  'NEGATIVE',\n",
       "  0.9980740547180176,\n",
       "  'https://finance.yahoo.com/news/google-parent-alphabets-stock-top-175837293.html'],\n",
       " ['GOOG',\n",
       "  'How to make money with AI and the skills needed. Here are the types of jobs that you can find in AI',\n",
       "  'POSITIVE',\n",
       "  0.9550225734710693,\n",
       "  'https://finance.yahoo.com/news/want-job-working-ai-ll-180044780.html'],\n",
       " ['TSLA',\n",
       "  'NHTSA says investigation covers an estimated 280,000 Model 3 and Model Y cars. Tesla may not be able to fix issue via software update',\n",
       "  'NEGATIVE',\n",
       "  0.9995212554931641,\n",
       "  'https://finance.yahoo.com/news/tesla-model-y-model-3-probed-by-nhtsa-on-loss-of-steering-complaints-174245647.html'],\n",
       " ['TSLA',\n",
       "  'Margins came in below expectations, but CEO says demand for new truck is off the hook.',\n",
       "  'NEGATIVE',\n",
       "  0.9878749251365662,\n",
       "  'https://finance.yahoo.com/news/tesla-stock-tumbles-nearly-10-on-margin-concerns-musk-warning-on-q3-production-200240714.html'],\n",
       " ['TSLA',\n",
       "  'Lucid says EV market ‘will explode,’ not ‘ deliberately targeting Tesla.’ Shares down more than 20% this year.',\n",
       "  'NEGATIVE',\n",
       "  0.9985577464103699,\n",
       "  'https://finance.yahoo.com/news/lucid-board-member-on-ev-competition-were-not-targeting-tesla-133735484.html'],\n",
       " ['TSLA',\n",
       "  'Tesla, Netflix results failed to excite investors. Johnson & Johnson, American Airlines also reported results',\n",
       "  'NEGATIVE',\n",
       "  0.9997245669364929,\n",
       "  'https://finance.yahoo.com/news/nasdaq-sinks-as-tesla-netflix-plunge-dow-gains-for-9th-day-stock-market-news-today-200246194.html'],\n",
       " ['TSLA',\n",
       "  'IEA expects a significant increase in electric vehicle sales compared to 2022. India, Thailand, and Indonesia experienced remarkable growth in 2022',\n",
       "  'POSITIVE',\n",
       "  0.998110294342041,\n",
       "  'https://finance.yahoo.com/news/10-best-ev-battery-autonomous-222242368.html'],\n",
       " ['BTC',\n",
       "  'Exchange to waive fees for BTC/FDUSD, maker fees until further notice.',\n",
       "  'NEGATIVE',\n",
       "  0.9841852188110352,\n",
       "  'https://finance.yahoo.com/news/binance-boosts-first-digitals-stablecoin-155401419.html'],\n",
       " ['BTC',\n",
       "  'SAI’s new U.S. R&D Center and OCEC Computing Heat Recycle Center to be unveiled in Marietta, Ohio.',\n",
       "  'POSITIVE',\n",
       "  0.9958518743515015,\n",
       "  'https://finance.yahoo.com/news/sai-tech-announces-host-upcoming-120000199.html'],\n",
       " ['BTC',\n",
       "  'DOJ is considering bringing fraud charges against Bitstamp, reports Semafor. Bitcoin is wavering above the $29,000 level as trading volumes remain low',\n",
       "  'NEGATIVE',\n",
       "  0.9990792274475098,\n",
       "  'https://uk.finance.yahoo.com/news/bitcoin-price-crypto-binance-fraud-charge-us-092356621.html'],\n",
       " ['BTC',\n",
       "  'Founder and Chairman Michael Saylor says company is all-in on crypto. But Wall Street analysts need more visibility on core business',\n",
       "  'NEGATIVE',\n",
       "  0.9965921640396118,\n",
       "  'https://finance.yahoo.com/news/bear-day-microstrategy-mstr-102000522.html'],\n",
       " ['BTC',\n",
       "  'Ether edged lower along with most other top 10 cryptocurrencies. JPMorgan report claims recent flurry of Bitcoin ETF applications may not be game-changer',\n",
       "  'NEGATIVE',\n",
       "  0.9975816011428833,\n",
       "  'https://finance.yahoo.com/news/bitcoin-stays-above-us-30-015141435.html']]"
      ]
     },
     "execution_count": 86,
     "metadata": {},
     "output_type": "execute_result"
    }
   ],
   "source": [
    "output = create_output_array(summaries, scores, cleaned_urls)\n",
    "output"
   ]
  },
  {
   "cell_type": "code",
   "execution_count": 87,
   "metadata": {},
   "outputs": [],
   "source": [
    "import csv\n",
    "with open('summaries.csv', mode='w', newline='') as f:\n",
    "    csv_writer = csv.writer(f, delimiter=',', quotechar='\"', quoting=csv.QUOTE_MINIMAL)\n",
    "    csv_writer.writerows(output)"
   ]
  }
 ],
 "metadata": {
  "kernelspec": {
   "display_name": "env",
   "language": "python",
   "name": "python3"
  },
  "language_info": {
   "codemirror_mode": {
    "name": "ipython",
    "version": 3
   },
   "file_extension": ".py",
   "mimetype": "text/x-python",
   "name": "python",
   "nbconvert_exporter": "python",
   "pygments_lexer": "ipython3",
   "version": "3.8.12"
  },
  "orig_nbformat": 4
 },
 "nbformat": 4,
 "nbformat_minor": 2
}
